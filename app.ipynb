{
 "cells": [
  {
   "cell_type": "code",
   "execution_count": 3,
   "metadata": {},
   "outputs": [],
   "source": [
    "import pandas as pd\n",
    "import os"
   ]
  },
  {
   "cell_type": "code",
   "execution_count": 4,
   "metadata": {},
   "outputs": [],
   "source": [
    "data = pd.read_csv(os.path.join('data', 'abcnews-date-text.csv'), error_bad_lines=False);\n",
    "data_text = data[['headline_text']]\n",
    "data_text['index'] = data_text.index\n",
    "documents = data_text"
   ]
  },
  {
   "cell_type": "code",
   "execution_count": 5,
   "metadata": {},
   "outputs": [
    {
     "name": "stdout",
     "output_type": "stream",
     "text": [
      "1103665\n",
      "                                       headline_text  index\n",
      "0  aba decides against community broadcasting lic...      0\n",
      "1     act fire witnesses must be aware of defamation      1\n",
      "2     a g calls for infrastructure protection summit      2\n",
      "3           air nz staff in aust strike for pay rise      3\n",
      "4      air nz strike to affect australian travellers      4\n"
     ]
    }
   ],
   "source": [
    "print(len(documents))\n",
    "print(documents[:5])"
   ]
  },
  {
   "cell_type": "code",
   "execution_count": 13,
   "metadata": {},
   "outputs": [
    {
     "name": "stdout",
     "output_type": "stream",
     "text": [
      "[nltk_data] Downloading package wordnet to\n",
      "[nltk_data]     /Users/amaity2/nltk_models...\n",
      "[nltk_data]   Package wordnet is already up-to-date!\n"
     ]
    }
   ],
   "source": [
    "import gensim\n",
    "from gensim.utils import simple_preprocess\n",
    "from gensim.parsing.preprocessing import STOPWORDS\n",
    "from nltk.stem import WordNetLemmatizer, SnowballStemmer\n",
    "from nltk.stem.porter import *\n",
    "import numpy as np\n",
    "np.random.seed(2018)\n",
    "import nltk\n",
    "nltk.download('wordnet')\n",
    "stemmer = SnowballStemmer(\"english\")"
   ]
  },
  {
   "cell_type": "code",
   "execution_count": 14,
   "metadata": {},
   "outputs": [],
   "source": [
    "def lemmatize_stemming(text):\n",
    "    return stemmer.stem(WordNetLemmatizer().lemmatize(text, pos='v'))\n",
    "\n",
    "def preprocess(text):\n",
    "    result = []\n",
    "    for token in gensim.utils.simple_preprocess(text):\n",
    "        if token not in gensim.parsing.preprocessing.STOPWORDS and len(token) > 3:\n",
    "            result.append(lemmatize_stemming(token))\n",
    "    return result"
   ]
  },
  {
   "cell_type": "code",
   "execution_count": 15,
   "metadata": {},
   "outputs": [
    {
     "name": "stdout",
     "output_type": "stream",
     "text": [
      "original document: \n",
      "['rain', 'helps', 'dampen', 'bushfires']\n",
      "\n",
      "\n",
      " tokenized and lemmatized document: \n",
      "['rain', 'help', 'dampen', 'bushfir']\n"
     ]
    }
   ],
   "source": [
    "doc_sample = documents[documents['index'] == 4310].values[0][0]\n",
    "\n",
    "print('original document: ')\n",
    "words = []\n",
    "for word in doc_sample.split(' '):\n",
    "    words.append(word)\n",
    "print(words)\n",
    "\n",
    "print('\\n\\n tokenized and lemmatized document: ')\n",
    "print(preprocess(doc_sample))"
   ]
  },
  {
   "cell_type": "code",
   "execution_count": 16,
   "metadata": {},
   "outputs": [
    {
     "data": {
      "text/plain": [
       "0            [decid, communiti, broadcast, licenc]\n",
       "1                               [wit, awar, defam]\n",
       "2           [call, infrastructur, protect, summit]\n",
       "3                      [staff, aust, strike, rise]\n",
       "4             [strike, affect, australian, travel]\n",
       "5               [ambiti, olsson, win, tripl, jump]\n",
       "6           [antic, delight, record, break, barca]\n",
       "7    [aussi, qualifi, stosur, wast, memphi, match]\n",
       "8            [aust, address, secur, council, iraq]\n",
       "9                         [australia, lock, timet]\n",
       "Name: headline_text, dtype: object"
      ]
     },
     "execution_count": 16,
     "metadata": {},
     "output_type": "execute_result"
    }
   ],
   "source": [
    "processed_docs = documents['headline_text'].map(preprocess)\n",
    "processed_docs[:10]"
   ]
  },
  {
   "cell_type": "code",
   "execution_count": 17,
   "metadata": {},
   "outputs": [
    {
     "name": "stdout",
     "output_type": "stream",
     "text": [
      "0 broadcast\n",
      "1 communiti\n",
      "2 decid\n",
      "3 licenc\n",
      "4 awar\n",
      "5 defam\n",
      "6 wit\n",
      "7 call\n",
      "8 infrastructur\n",
      "9 protect\n",
      "10 summit\n"
     ]
    }
   ],
   "source": [
    "dictionary = gensim.corpora.Dictionary(processed_docs)\n",
    "\n",
    "count = 0\n",
    "for k, v in dictionary.iteritems():\n",
    "    print(k, v)\n",
    "    count += 1\n",
    "    if count > 10:\n",
    "        break"
   ]
  },
  {
   "cell_type": "code",
   "execution_count": 18,
   "metadata": {},
   "outputs": [],
   "source": [
    "dictionary.filter_extremes(no_below=15, no_above=0.5, keep_n=100000)"
   ]
  },
  {
   "cell_type": "code",
   "execution_count": 19,
   "metadata": {},
   "outputs": [
    {
     "data": {
      "text/plain": [
       "[(76, 1), (112, 1), (483, 1), (4014, 1)]"
      ]
     },
     "execution_count": 19,
     "metadata": {},
     "output_type": "execute_result"
    }
   ],
   "source": [
    "bow_corpus = [dictionary.doc2bow(doc) for doc in processed_docs]\n",
    "bow_corpus[4310]"
   ]
  },
  {
   "cell_type": "code",
   "execution_count": 21,
   "metadata": {},
   "outputs": [
    {
     "name": "stdout",
     "output_type": "stream",
     "text": [
      "Word 76 (\"bushfir\") appears 1 time.\n",
      "Word 112 (\"help\") appears 1 time.\n",
      "Word 483 (\"rain\") appears 1 time.\n",
      "Word 4014 (\"dampen\") appears 1 time.\n"
     ]
    }
   ],
   "source": [
    "bow_doc_4310 = bow_corpus[4310]\n",
    "\n",
    "for i in range(len(bow_doc_4310)):\n",
    "    print(\"Word {} (\\\"{}\\\") appears {} time.\".format(bow_doc_4310[i][0], \n",
    "                                               dictionary[bow_doc_4310[i][0]], \n",
    "bow_doc_4310[i][1]))"
   ]
  },
  {
   "cell_type": "code",
   "execution_count": 22,
   "metadata": {},
   "outputs": [
    {
     "name": "stdout",
     "output_type": "stream",
     "text": [
      "[(0, 0.5892908644709983),\n",
      " (1, 0.38929657403503015),\n",
      " (2, 0.4964985198530063),\n",
      " (3, 0.5046520328695662)]\n"
     ]
    }
   ],
   "source": [
    "from gensim import corpora, models\n",
    "\n",
    "tfidf = models.TfidfModel(bow_corpus)\n",
    "corpus_tfidf = tfidf[bow_corpus]\n",
    "\n",
    "from pprint import pprint\n",
    "for doc in corpus_tfidf:\n",
    "    pprint(doc)\n",
    "    break"
   ]
  },
  {
   "cell_type": "code",
   "execution_count": 23,
   "metadata": {},
   "outputs": [],
   "source": [
    "lda_model = gensim.models.LdaMulticore(bow_corpus, num_topics=10, id2word=dictionary, passes=2, workers=2)"
   ]
  },
  {
   "cell_type": "code",
   "execution_count": 24,
   "metadata": {},
   "outputs": [
    {
     "name": "stdout",
     "output_type": "stream",
     "text": [
      "Topic: 0 \n",
      "Words: 0.029*\"elect\" + 0.019*\"say\" + 0.018*\"death\" + 0.017*\"hospit\" + 0.016*\"tasmanian\" + 0.015*\"labor\" + 0.013*\"deal\" + 0.013*\"china\" + 0.011*\"polit\" + 0.011*\"talk\"\n",
      "Topic: 1 \n",
      "Words: 0.020*\"nation\" + 0.018*\"coast\" + 0.016*\"help\" + 0.016*\"countri\" + 0.015*\"state\" + 0.015*\"chang\" + 0.015*\"health\" + 0.013*\"hour\" + 0.013*\"indigen\" + 0.012*\"water\"\n",
      "Topic: 2 \n",
      "Words: 0.019*\"canberra\" + 0.018*\"market\" + 0.014*\"rise\" + 0.014*\"west\" + 0.014*\"australian\" + 0.014*\"turnbul\" + 0.013*\"price\" + 0.013*\"share\" + 0.012*\"victoria\" + 0.011*\"bank\"\n",
      "Topic: 3 \n",
      "Words: 0.062*\"polic\" + 0.023*\"crash\" + 0.019*\"interview\" + 0.018*\"miss\" + 0.018*\"shoot\" + 0.015*\"investig\" + 0.013*\"arrest\" + 0.013*\"driver\" + 0.011*\"search\" + 0.011*\"offic\"\n",
      "Topic: 4 \n",
      "Words: 0.029*\"charg\" + 0.027*\"court\" + 0.021*\"murder\" + 0.018*\"woman\" + 0.018*\"face\" + 0.016*\"alleg\" + 0.015*\"brisban\" + 0.015*\"live\" + 0.015*\"jail\" + 0.014*\"perth\"\n",
      "Topic: 5 \n",
      "Words: 0.035*\"australia\" + 0.021*\"melbourn\" + 0.021*\"world\" + 0.017*\"open\" + 0.014*\"final\" + 0.013*\"donald\" + 0.011*\"sydney\" + 0.010*\"leagu\" + 0.010*\"take\" + 0.010*\"win\"\n",
      "Topic: 6 \n",
      "Words: 0.026*\"south\" + 0.025*\"kill\" + 0.015*\"island\" + 0.013*\"fall\" + 0.011*\"attack\" + 0.009*\"forc\" + 0.009*\"christma\" + 0.009*\"shark\" + 0.008*\"east\" + 0.007*\"northern\"\n",
      "Topic: 7 \n",
      "Words: 0.020*\"council\" + 0.015*\"power\" + 0.013*\"farmer\" + 0.012*\"busi\" + 0.011*\"guilti\" + 0.011*\"industri\" + 0.010*\"region\" + 0.010*\"feder\" + 0.010*\"research\" + 0.009*\"energi\"\n",
      "Topic: 8 \n",
      "Words: 0.036*\"trump\" + 0.032*\"australian\" + 0.019*\"queensland\" + 0.014*\"leav\" + 0.013*\"australia\" + 0.011*\"show\" + 0.011*\"report\" + 0.011*\"say\" + 0.011*\"royal\" + 0.010*\"game\"\n",
      "Topic: 9 \n",
      "Words: 0.036*\"govern\" + 0.021*\"test\" + 0.018*\"rural\" + 0.014*\"break\" + 0.013*\"worker\" + 0.012*\"school\" + 0.012*\"news\" + 0.010*\"violenc\" + 0.010*\"say\" + 0.009*\"premier\"\n"
     ]
    }
   ],
   "source": [
    "for idx, topic in lda_model.print_topics(-1):\n",
    "    print('Topic: {} \\nWords: {}'.format(idx, topic))"
   ]
  },
  {
   "cell_type": "code",
   "execution_count": 25,
   "metadata": {},
   "outputs": [
    {
     "name": "stdout",
     "output_type": "stream",
     "text": [
      "Topic: 0 Word: 0.022*\"trump\" + 0.007*\"novemb\" + 0.007*\"monday\" + 0.006*\"wednesday\" + 0.005*\"decemb\" + 0.005*\"leagu\" + 0.005*\"open\" + 0.005*\"world\" + 0.004*\"final\" + 0.004*\"round\"\n",
      "Topic: 1 Word: 0.016*\"polic\" + 0.014*\"interview\" + 0.013*\"charg\" + 0.013*\"crash\" + 0.013*\"murder\" + 0.012*\"woman\" + 0.010*\"death\" + 0.009*\"court\" + 0.008*\"shoot\" + 0.008*\"die\"\n",
      "Topic: 2 Word: 0.010*\"weather\" + 0.008*\"queensland\" + 0.008*\"farm\" + 0.007*\"flood\" + 0.006*\"friday\" + 0.006*\"farmer\" + 0.006*\"damag\" + 0.006*\"rain\" + 0.006*\"dairi\" + 0.006*\"cyclon\"\n",
      "Topic: 3 Word: 0.009*\"drug\" + 0.008*\"abbott\" + 0.008*\"plead\" + 0.007*\"guilti\" + 0.006*\"polic\" + 0.006*\"charg\" + 0.005*\"court\" + 0.005*\"disabl\" + 0.005*\"know\" + 0.005*\"spring\"\n",
      "Topic: 4 Word: 0.007*\"hobart\" + 0.006*\"andrew\" + 0.006*\"jam\" + 0.006*\"april\" + 0.005*\"scott\" + 0.005*\"zealand\" + 0.005*\"flight\" + 0.004*\"breakfast\" + 0.004*\"paul\" + 0.004*\"drone\"\n",
      "Topic: 5 Word: 0.017*\"countri\" + 0.017*\"hour\" + 0.014*\"rural\" + 0.013*\"market\" + 0.011*\"news\" + 0.008*\"share\" + 0.008*\"price\" + 0.007*\"busi\" + 0.006*\"rise\" + 0.006*\"nation\"\n",
      "Topic: 6 Word: 0.012*\"podcast\" + 0.011*\"donald\" + 0.006*\"august\" + 0.006*\"thursday\" + 0.006*\"toni\" + 0.006*\"john\" + 0.005*\"social\" + 0.005*\"speak\" + 0.005*\"music\" + 0.004*\"white\"\n",
      "Topic: 7 Word: 0.012*\"govern\" + 0.010*\"elect\" + 0.007*\"drum\" + 0.007*\"labor\" + 0.007*\"health\" + 0.007*\"turnbul\" + 0.007*\"fund\" + 0.006*\"say\" + 0.006*\"budget\" + 0.005*\"feder\"\n",
      "Topic: 8 Word: 0.008*\"kill\" + 0.007*\"south\" + 0.007*\"korea\" + 0.007*\"juli\" + 0.006*\"septemb\" + 0.006*\"australia\" + 0.006*\"attack\" + 0.005*\"syria\" + 0.005*\"north\" + 0.005*\"australian\"\n",
      "Topic: 9 Word: 0.008*\"sport\" + 0.007*\"australia\" + 0.007*\"michael\" + 0.007*\"climat\" + 0.007*\"rugbi\" + 0.007*\"octob\" + 0.006*\"tuesday\" + 0.006*\"david\" + 0.006*\"test\" + 0.006*\"world\"\n"
     ]
    }
   ],
   "source": [
    "lda_model_tfidf = gensim.models.LdaMulticore(corpus_tfidf, num_topics=10, id2word=dictionary, passes=2, workers=4)\n",
    "for idx, topic in lda_model_tfidf.print_topics(-1):\n",
    "    print('Topic: {} Word: {}'.format(idx, topic))"
   ]
  },
  {
   "cell_type": "code",
   "execution_count": 26,
   "metadata": {},
   "outputs": [
    {
     "data": {
      "text/plain": [
       "['rain', 'help', 'dampen', 'bushfir']"
      ]
     },
     "execution_count": 26,
     "metadata": {},
     "output_type": "execute_result"
    }
   ],
   "source": [
    "processed_docs[4310]"
   ]
  },
  {
   "cell_type": "code",
   "execution_count": 27,
   "metadata": {},
   "outputs": [
    {
     "name": "stdout",
     "output_type": "stream",
     "text": [
      "\n",
      "Score: 0.41999998688697815\t \n",
      "Topic: 0.026*\"south\" + 0.025*\"kill\" + 0.015*\"island\" + 0.013*\"fall\" + 0.011*\"attack\" + 0.009*\"forc\" + 0.009*\"christma\" + 0.009*\"shark\" + 0.008*\"east\" + 0.007*\"northern\"\n",
      "\n",
      "Score: 0.2199999988079071\t \n",
      "Topic: 0.020*\"nation\" + 0.018*\"coast\" + 0.016*\"help\" + 0.016*\"countri\" + 0.015*\"state\" + 0.015*\"chang\" + 0.015*\"health\" + 0.013*\"hour\" + 0.013*\"indigen\" + 0.012*\"water\"\n",
      "\n",
      "Score: 0.2199999988079071\t \n",
      "Topic: 0.035*\"australia\" + 0.021*\"melbourn\" + 0.021*\"world\" + 0.017*\"open\" + 0.014*\"final\" + 0.013*\"donald\" + 0.011*\"sydney\" + 0.010*\"leagu\" + 0.010*\"take\" + 0.010*\"win\"\n",
      "\n",
      "Score: 0.019999999552965164\t \n",
      "Topic: 0.029*\"elect\" + 0.019*\"say\" + 0.018*\"death\" + 0.017*\"hospit\" + 0.016*\"tasmanian\" + 0.015*\"labor\" + 0.013*\"deal\" + 0.013*\"china\" + 0.011*\"polit\" + 0.011*\"talk\"\n",
      "\n",
      "Score: 0.019999999552965164\t \n",
      "Topic: 0.019*\"canberra\" + 0.018*\"market\" + 0.014*\"rise\" + 0.014*\"west\" + 0.014*\"australian\" + 0.014*\"turnbul\" + 0.013*\"price\" + 0.013*\"share\" + 0.012*\"victoria\" + 0.011*\"bank\"\n",
      "\n",
      "Score: 0.019999999552965164\t \n",
      "Topic: 0.062*\"polic\" + 0.023*\"crash\" + 0.019*\"interview\" + 0.018*\"miss\" + 0.018*\"shoot\" + 0.015*\"investig\" + 0.013*\"arrest\" + 0.013*\"driver\" + 0.011*\"search\" + 0.011*\"offic\"\n",
      "\n",
      "Score: 0.019999999552965164\t \n",
      "Topic: 0.029*\"charg\" + 0.027*\"court\" + 0.021*\"murder\" + 0.018*\"woman\" + 0.018*\"face\" + 0.016*\"alleg\" + 0.015*\"brisban\" + 0.015*\"live\" + 0.015*\"jail\" + 0.014*\"perth\"\n",
      "\n",
      "Score: 0.019999999552965164\t \n",
      "Topic: 0.020*\"council\" + 0.015*\"power\" + 0.013*\"farmer\" + 0.012*\"busi\" + 0.011*\"guilti\" + 0.011*\"industri\" + 0.010*\"region\" + 0.010*\"feder\" + 0.010*\"research\" + 0.009*\"energi\"\n",
      "\n",
      "Score: 0.019999999552965164\t \n",
      "Topic: 0.036*\"trump\" + 0.032*\"australian\" + 0.019*\"queensland\" + 0.014*\"leav\" + 0.013*\"australia\" + 0.011*\"show\" + 0.011*\"report\" + 0.011*\"say\" + 0.011*\"royal\" + 0.010*\"game\"\n",
      "\n",
      "Score: 0.019999999552965164\t \n",
      "Topic: 0.036*\"govern\" + 0.021*\"test\" + 0.018*\"rural\" + 0.014*\"break\" + 0.013*\"worker\" + 0.012*\"school\" + 0.012*\"news\" + 0.010*\"violenc\" + 0.010*\"say\" + 0.009*\"premier\"\n"
     ]
    }
   ],
   "source": [
    "for index, score in sorted(lda_model[bow_corpus[4310]], key=lambda tup: -1*tup[1]):\n",
    "    print(\"\\nScore: {}\\t \\nTopic: {}\".format(score, lda_model.print_topic(index, 10)))"
   ]
  },
  {
   "cell_type": "code",
   "execution_count": 28,
   "metadata": {},
   "outputs": [
    {
     "name": "stdout",
     "output_type": "stream",
     "text": [
      "\n",
      "Score: 0.5350757241249084\t \n",
      "Topic: 0.010*\"weather\" + 0.008*\"queensland\" + 0.008*\"farm\" + 0.007*\"flood\" + 0.006*\"friday\" + 0.006*\"farmer\" + 0.006*\"damag\" + 0.006*\"rain\" + 0.006*\"dairi\" + 0.006*\"cyclon\"\n",
      "\n",
      "Score: 0.30491358041763306\t \n",
      "Topic: 0.017*\"countri\" + 0.017*\"hour\" + 0.014*\"rural\" + 0.013*\"market\" + 0.011*\"news\" + 0.008*\"share\" + 0.008*\"price\" + 0.007*\"busi\" + 0.006*\"rise\" + 0.006*\"nation\"\n",
      "\n",
      "Score: 0.020002121105790138\t \n",
      "Topic: 0.022*\"trump\" + 0.007*\"novemb\" + 0.007*\"monday\" + 0.006*\"wednesday\" + 0.005*\"decemb\" + 0.005*\"leagu\" + 0.005*\"open\" + 0.005*\"world\" + 0.004*\"final\" + 0.004*\"round\"\n",
      "\n",
      "Score: 0.020002055913209915\t \n",
      "Topic: 0.012*\"govern\" + 0.010*\"elect\" + 0.007*\"drum\" + 0.007*\"labor\" + 0.007*\"health\" + 0.007*\"turnbul\" + 0.007*\"fund\" + 0.006*\"say\" + 0.006*\"budget\" + 0.005*\"feder\"\n",
      "\n",
      "Score: 0.0200016051530838\t \n",
      "Topic: 0.016*\"polic\" + 0.014*\"interview\" + 0.013*\"charg\" + 0.013*\"crash\" + 0.013*\"murder\" + 0.012*\"woman\" + 0.010*\"death\" + 0.009*\"court\" + 0.008*\"shoot\" + 0.008*\"die\"\n",
      "\n",
      "Score: 0.020001549273729324\t \n",
      "Topic: 0.009*\"drug\" + 0.008*\"abbott\" + 0.008*\"plead\" + 0.007*\"guilti\" + 0.006*\"polic\" + 0.006*\"charg\" + 0.005*\"court\" + 0.005*\"disabl\" + 0.005*\"know\" + 0.005*\"spring\"\n",
      "\n",
      "Score: 0.020001063123345375\t \n",
      "Topic: 0.008*\"kill\" + 0.007*\"south\" + 0.007*\"korea\" + 0.007*\"juli\" + 0.006*\"septemb\" + 0.006*\"australia\" + 0.006*\"attack\" + 0.005*\"syria\" + 0.005*\"north\" + 0.005*\"australian\"\n",
      "\n",
      "Score: 0.02000102959573269\t \n",
      "Topic: 0.012*\"podcast\" + 0.011*\"donald\" + 0.006*\"august\" + 0.006*\"thursday\" + 0.006*\"toni\" + 0.006*\"john\" + 0.005*\"social\" + 0.005*\"speak\" + 0.005*\"music\" + 0.004*\"white\"\n",
      "\n",
      "Score: 0.020000791177153587\t \n",
      "Topic: 0.008*\"sport\" + 0.007*\"australia\" + 0.007*\"michael\" + 0.007*\"climat\" + 0.007*\"rugbi\" + 0.007*\"octob\" + 0.006*\"tuesday\" + 0.006*\"david\" + 0.006*\"test\" + 0.006*\"world\"\n",
      "\n",
      "Score: 0.020000478252768517\t \n",
      "Topic: 0.007*\"hobart\" + 0.006*\"andrew\" + 0.006*\"jam\" + 0.006*\"april\" + 0.005*\"scott\" + 0.005*\"zealand\" + 0.005*\"flight\" + 0.004*\"breakfast\" + 0.004*\"paul\" + 0.004*\"drone\"\n"
     ]
    }
   ],
   "source": [
    "for index, score in sorted(lda_model_tfidf[bow_corpus[4310]], key=lambda tup: -1*tup[1]):\n",
    "    print(\"\\nScore: {}\\t \\nTopic: {}\".format(score, lda_model_tfidf.print_topic(index, 10)))"
   ]
  },
  {
   "cell_type": "code",
   "execution_count": 29,
   "metadata": {},
   "outputs": [
    {
     "name": "stdout",
     "output_type": "stream",
     "text": [
      "Score: 0.2811703383922577\t Topic: 0.029*\"elect\" + 0.019*\"say\" + 0.018*\"death\" + 0.017*\"hospit\" + 0.016*\"tasmanian\"\n",
      "Score: 0.2521570026874542\t Topic: 0.020*\"nation\" + 0.018*\"coast\" + 0.016*\"help\" + 0.016*\"countri\" + 0.015*\"state\"\n",
      "Score: 0.18333333730697632\t Topic: 0.019*\"canberra\" + 0.018*\"market\" + 0.014*\"rise\" + 0.014*\"west\" + 0.014*\"australian\"\n",
      "Score: 0.18333332240581512\t Topic: 0.062*\"polic\" + 0.023*\"crash\" + 0.019*\"interview\" + 0.018*\"miss\" + 0.018*\"shoot\"\n",
      "Score: 0.016672654077410698\t Topic: 0.036*\"trump\" + 0.032*\"australian\" + 0.019*\"queensland\" + 0.014*\"leav\" + 0.013*\"australia\"\n",
      "Score: 0.01666666567325592\t Topic: 0.029*\"charg\" + 0.027*\"court\" + 0.021*\"murder\" + 0.018*\"woman\" + 0.018*\"face\"\n",
      "Score: 0.01666666567325592\t Topic: 0.035*\"australia\" + 0.021*\"melbourn\" + 0.021*\"world\" + 0.017*\"open\" + 0.014*\"final\"\n",
      "Score: 0.01666666567325592\t Topic: 0.026*\"south\" + 0.025*\"kill\" + 0.015*\"island\" + 0.013*\"fall\" + 0.011*\"attack\"\n",
      "Score: 0.01666666567325592\t Topic: 0.020*\"council\" + 0.015*\"power\" + 0.013*\"farmer\" + 0.012*\"busi\" + 0.011*\"guilti\"\n",
      "Score: 0.01666666567325592\t Topic: 0.036*\"govern\" + 0.021*\"test\" + 0.018*\"rural\" + 0.014*\"break\" + 0.013*\"worker\"\n"
     ]
    }
   ],
   "source": [
    "unseen_document = 'How a Pentagon deal became an identity crisis for Google'\n",
    "\n",
    "bow_vector = dictionary.doc2bow(preprocess(unseen_document))\n",
    "for index, score in sorted(lda_model[bow_vector], key=lambda tup: -1*tup[1]):\n",
    "    print(\"Score: {}\\t Topic: {}\".format(score, lda_model.print_topic(index, 5)))"
   ]
  },
  {
   "cell_type": "code",
   "execution_count": null,
   "metadata": {},
   "outputs": [],
   "source": []
  }
 ],
 "metadata": {
  "kernelspec": {
   "display_name": "Python 3",
   "language": "python",
   "name": "python3"
  },
  "language_info": {
   "codemirror_mode": {
    "name": "ipython",
    "version": 3
   },
   "file_extension": ".py",
   "mimetype": "text/x-python",
   "name": "python",
   "nbconvert_exporter": "python",
   "pygments_lexer": "ipython3",
   "version": "3.6.5"
  }
 },
 "nbformat": 4,
 "nbformat_minor": 2
}
